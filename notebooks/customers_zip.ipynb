{
 "cells": [
  {
   "metadata": {
    "ExecuteTime": {
     "end_time": "2024-10-02T10:53:24.219011Z",
     "start_time": "2024-10-02T10:53:24.213846Z"
    }
   },
   "cell_type": "code",
   "source": "import pandas as pd",
   "id": "1a9b27ef2fd0d4aa",
   "outputs": [],
   "execution_count": 28
  },
  {
   "metadata": {
    "collapsed": true,
    "ExecuteTime": {
     "end_time": "2024-10-02T10:53:24.346416Z",
     "start_time": "2024-10-02T10:53:24.219011Z"
    }
   },
   "cell_type": "code",
   "source": [
    "df_customers_zip = pd.read_csv('/Users/kinga/Documents/DataScience/Task/customers_zip.csv')\n",
    "df_customers_zip.head()"
   ],
   "id": "initial_id",
   "outputs": [
    {
     "data": {
      "text/plain": [
       "   customer_id zip_cust\n",
       "0   77461851.0   40-310\n",
       "1   37934116.0   81-080\n",
       "2   39770481.0   90-430\n",
       "3   50298765.0   60-591\n",
       "4   23383753.0   31-691"
      ],
      "text/html": [
       "<div>\n",
       "<style scoped>\n",
       "    .dataframe tbody tr th:only-of-type {\n",
       "        vertical-align: middle;\n",
       "    }\n",
       "\n",
       "    .dataframe tbody tr th {\n",
       "        vertical-align: top;\n",
       "    }\n",
       "\n",
       "    .dataframe thead th {\n",
       "        text-align: right;\n",
       "    }\n",
       "</style>\n",
       "<table border=\"1\" class=\"dataframe\">\n",
       "  <thead>\n",
       "    <tr style=\"text-align: right;\">\n",
       "      <th></th>\n",
       "      <th>customer_id</th>\n",
       "      <th>zip_cust</th>\n",
       "    </tr>\n",
       "  </thead>\n",
       "  <tbody>\n",
       "    <tr>\n",
       "      <th>0</th>\n",
       "      <td>77461851.0</td>\n",
       "      <td>40-310</td>\n",
       "    </tr>\n",
       "    <tr>\n",
       "      <th>1</th>\n",
       "      <td>37934116.0</td>\n",
       "      <td>81-080</td>\n",
       "    </tr>\n",
       "    <tr>\n",
       "      <th>2</th>\n",
       "      <td>39770481.0</td>\n",
       "      <td>90-430</td>\n",
       "    </tr>\n",
       "    <tr>\n",
       "      <th>3</th>\n",
       "      <td>50298765.0</td>\n",
       "      <td>60-591</td>\n",
       "    </tr>\n",
       "    <tr>\n",
       "      <th>4</th>\n",
       "      <td>23383753.0</td>\n",
       "      <td>31-691</td>\n",
       "    </tr>\n",
       "  </tbody>\n",
       "</table>\n",
       "</div>"
      ]
     },
     "execution_count": 29,
     "metadata": {},
     "output_type": "execute_result"
    }
   ],
   "execution_count": 29
  },
  {
   "metadata": {
    "ExecuteTime": {
     "end_time": "2024-10-02T10:53:24.373745Z",
     "start_time": "2024-10-02T10:53:24.369220Z"
    }
   },
   "cell_type": "code",
   "source": "df_customers_zip.info",
   "id": "5f14ce74e7a2acc",
   "outputs": [
    {
     "data": {
      "text/plain": [
       "<bound method DataFrame.info of          customer_id zip_cust\n",
       "0         77461851.0   40-310\n",
       "1         37934116.0   81-080\n",
       "2         39770481.0   90-430\n",
       "3         50298765.0   60-591\n",
       "4         23383753.0   31-691\n",
       "...              ...      ...\n",
       "1064030    7614400.0   91-430\n",
       "1064031   38064713.0   20-101\n",
       "1064032   55151857.0   82-041\n",
       "1064033   72477424.0   71-080\n",
       "1064034   34343239.0   21-240\n",
       "\n",
       "[1064035 rows x 2 columns]>"
      ]
     },
     "execution_count": 30,
     "metadata": {},
     "output_type": "execute_result"
    }
   ],
   "execution_count": 30
  },
  {
   "metadata": {
    "ExecuteTime": {
     "end_time": "2024-10-02T10:53:24.480181Z",
     "start_time": "2024-10-02T10:53:24.453111Z"
    }
   },
   "cell_type": "code",
   "source": "df_customers_zip.isna().sum()",
   "id": "4155dbf0ab9348eb",
   "outputs": [
    {
     "data": {
      "text/plain": [
       "customer_id     1\n",
       "zip_cust       50\n",
       "dtype: int64"
      ]
     },
     "execution_count": 31,
     "metadata": {},
     "output_type": "execute_result"
    }
   ],
   "execution_count": 31
  },
  {
   "metadata": {
    "ExecuteTime": {
     "end_time": "2024-10-02T10:53:24.534378Z",
     "start_time": "2024-10-02T10:53:24.498205Z"
    }
   },
   "cell_type": "code",
   "source": "df_customers_zip_cleaned = df_customers_zip.dropna(axis=0, how='any')",
   "id": "4247abe2b9491eba",
   "outputs": [],
   "execution_count": 32
  },
  {
   "metadata": {},
   "cell_type": "markdown",
   "source": "Removing NaN values",
   "id": "110c4ce65ead575b"
  },
  {
   "metadata": {
    "ExecuteTime": {
     "end_time": "2024-10-02T10:53:24.675567Z",
     "start_time": "2024-10-02T10:53:24.550777Z"
    }
   },
   "cell_type": "code",
   "source": "df_customers_zip_cleaned['customer_id'].value_counts()",
   "id": "38666ba197655f5c",
   "outputs": [
    {
     "data": {
      "text/plain": [
       "customer_id\n",
       "15782910.0    2\n",
       "1826581.0     2\n",
       "46019269.0    2\n",
       "3694670.0     2\n",
       "88106436.0    2\n",
       "             ..\n",
       "5280310.0     1\n",
       "63324185.0    1\n",
       "25410145.0    1\n",
       "87221052.0    1\n",
       "37934116.0    1\n",
       "Name: count, Length: 1060655, dtype: int64"
      ]
     },
     "execution_count": 33,
     "metadata": {},
     "output_type": "execute_result"
    }
   ],
   "execution_count": 33
  },
  {
   "metadata": {},
   "cell_type": "markdown",
   "source": "Checking if there is more than one zip-code per customer",
   "id": "b403160dd29ab7a0"
  },
  {
   "metadata": {
    "ExecuteTime": {
     "end_time": "2024-10-02T10:53:24.693753Z",
     "start_time": "2024-10-02T10:53:24.691089Z"
    }
   },
   "cell_type": "code",
   "source": "df_customers_multiple_zip_cleaned = df_customers_zip_cleaned",
   "id": "b93501da0180f12f",
   "outputs": [],
   "execution_count": 34
  },
  {
   "metadata": {},
   "cell_type": "markdown",
   "source": "Making a DataFrame with multiple zip-codes, as the client could have two homes",
   "id": "6be0be87b4f62b7d"
  },
  {
   "metadata": {
    "ExecuteTime": {
     "end_time": "2024-10-02T10:53:24.762018Z",
     "start_time": "2024-10-02T10:53:24.728659Z"
    }
   },
   "cell_type": "code",
   "source": "df_customers_multiple_zip_cleaned['zip_cust'].value_counts()",
   "id": "8c1328cc65ed5f56",
   "outputs": [
    {
     "data": {
      "text/plain": [
       "zip_cust\n",
       "12-091    323\n",
       "92-241    313\n",
       "22-661    311\n",
       "51-350    307\n",
       "02-190    305\n",
       "         ... \n",
       "30-000    207\n",
       "60-021    207\n",
       "21-610    206\n",
       "42-670    205\n",
       "00-650    191\n",
       "Name: count, Length: 4200, dtype: int64"
      ]
     },
     "execution_count": 35,
     "metadata": {},
     "output_type": "execute_result"
    }
   ],
   "execution_count": 35
  },
  {
   "metadata": {},
   "cell_type": "markdown",
   "source": "Checking which zip-code has the most customers",
   "id": "9ff03609758594fc"
  },
  {
   "metadata": {
    "ExecuteTime": {
     "end_time": "2024-10-02T10:53:24.818645Z",
     "start_time": "2024-10-02T10:53:24.777454Z"
    }
   },
   "cell_type": "code",
   "source": "df_customers_one_zip_cleaned = df_customers_zip_cleaned.drop_duplicates(subset='customer_id', keep='last')",
   "id": "609abb2c19665578",
   "outputs": [],
   "execution_count": 36
  },
  {
   "metadata": {},
   "cell_type": "markdown",
   "source": "Making a DataFrame with the last zip-code, as the client could have moved",
   "id": "e4dba1cd52437274"
  },
  {
   "metadata": {
    "ExecuteTime": {
     "end_time": "2024-10-02T10:53:24.868065Z",
     "start_time": "2024-10-02T10:53:24.834622Z"
    }
   },
   "cell_type": "code",
   "source": "df_customers_one_zip_cleaned['zip_cust'].value_counts()",
   "id": "8a1b70454aa3c7c7",
   "outputs": [
    {
     "data": {
      "text/plain": [
       "zip_cust\n",
       "12-091    321\n",
       "92-241    312\n",
       "22-661    311\n",
       "51-350    306\n",
       "90-331    305\n",
       "         ... \n",
       "60-021    206\n",
       "30-000    206\n",
       "21-610    205\n",
       "42-670    205\n",
       "00-650    191\n",
       "Name: count, Length: 4200, dtype: int64"
      ]
     },
     "execution_count": 37,
     "metadata": {},
     "output_type": "execute_result"
    }
   ],
   "execution_count": 37
  },
  {
   "metadata": {},
   "cell_type": "markdown",
   "source": "Checking which zip-code has the most customers",
   "id": "be5c314d990ffedf"
  },
  {
   "metadata": {},
   "cell_type": "markdown",
   "source": "In both cases the most clients are from postal code 12-091",
   "id": "ae24351add4a6b59"
  }
 ],
 "metadata": {
  "kernelspec": {
   "display_name": "Python 3",
   "language": "python",
   "name": "python3"
  },
  "language_info": {
   "codemirror_mode": {
    "name": "ipython",
    "version": 2
   },
   "file_extension": ".py",
   "mimetype": "text/x-python",
   "name": "python",
   "nbconvert_exporter": "python",
   "pygments_lexer": "ipython2",
   "version": "2.7.6"
  }
 },
 "nbformat": 4,
 "nbformat_minor": 5
}
