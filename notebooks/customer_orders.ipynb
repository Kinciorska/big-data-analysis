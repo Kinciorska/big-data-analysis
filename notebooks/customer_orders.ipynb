{
 "cells": [
  {
   "metadata": {
    "ExecuteTime": {
     "end_time": "2024-10-02T10:52:21.774014Z",
     "start_time": "2024-10-02T10:52:21.765785Z"
    }
   },
   "cell_type": "code",
   "source": "import pandas as pd",
   "id": "75d745ec4afb8ef",
   "outputs": [],
   "execution_count": 14
  },
  {
   "metadata": {
    "collapsed": true,
    "ExecuteTime": {
     "end_time": "2024-10-02T10:52:22.386478Z",
     "start_time": "2024-10-02T10:52:21.774014Z"
    }
   },
   "cell_type": "code",
   "source": [
    "df_customer_orders = pd.read_csv('/Users/kinga/Documents/DataScience/Task/customer_orders.csv', names=['number', 'customer_id', 'order_id'], header=0)\n",
    "df_customer_orders.head()"
   ],
   "id": "initial_id",
   "outputs": [
    {
     "data": {
      "text/plain": [
       "   number  customer_id    order_id\n",
       "0       1   77461851.0  82168832.0\n",
       "1       2   37934116.0  38300086.0\n",
       "2       3   39770481.0  70629629.0\n",
       "3       4   50298765.0  81244871.0\n",
       "4       5   23383753.0  88005542.0"
      ],
      "text/html": [
       "<div>\n",
       "<style scoped>\n",
       "    .dataframe tbody tr th:only-of-type {\n",
       "        vertical-align: middle;\n",
       "    }\n",
       "\n",
       "    .dataframe tbody tr th {\n",
       "        vertical-align: top;\n",
       "    }\n",
       "\n",
       "    .dataframe thead th {\n",
       "        text-align: right;\n",
       "    }\n",
       "</style>\n",
       "<table border=\"1\" class=\"dataframe\">\n",
       "  <thead>\n",
       "    <tr style=\"text-align: right;\">\n",
       "      <th></th>\n",
       "      <th>number</th>\n",
       "      <th>customer_id</th>\n",
       "      <th>order_id</th>\n",
       "    </tr>\n",
       "  </thead>\n",
       "  <tbody>\n",
       "    <tr>\n",
       "      <th>0</th>\n",
       "      <td>1</td>\n",
       "      <td>77461851.0</td>\n",
       "      <td>82168832.0</td>\n",
       "    </tr>\n",
       "    <tr>\n",
       "      <th>1</th>\n",
       "      <td>2</td>\n",
       "      <td>37934116.0</td>\n",
       "      <td>38300086.0</td>\n",
       "    </tr>\n",
       "    <tr>\n",
       "      <th>2</th>\n",
       "      <td>3</td>\n",
       "      <td>39770481.0</td>\n",
       "      <td>70629629.0</td>\n",
       "    </tr>\n",
       "    <tr>\n",
       "      <th>3</th>\n",
       "      <td>4</td>\n",
       "      <td>50298765.0</td>\n",
       "      <td>81244871.0</td>\n",
       "    </tr>\n",
       "    <tr>\n",
       "      <th>4</th>\n",
       "      <td>5</td>\n",
       "      <td>23383753.0</td>\n",
       "      <td>88005542.0</td>\n",
       "    </tr>\n",
       "  </tbody>\n",
       "</table>\n",
       "</div>"
      ]
     },
     "execution_count": 15,
     "metadata": {},
     "output_type": "execute_result"
    }
   ],
   "execution_count": 15
  },
  {
   "metadata": {
    "ExecuteTime": {
     "end_time": "2024-10-02T10:52:22.414009Z",
     "start_time": "2024-10-02T10:52:22.409288Z"
    }
   },
   "cell_type": "code",
   "source": "df_customer_orders.info",
   "id": "92235c6702f55ef7",
   "outputs": [
    {
     "data": {
      "text/plain": [
       "<bound method DataFrame.info of           number  customer_id    order_id\n",
       "0              1   77461851.0  82168832.0\n",
       "1              2   37934116.0  38300086.0\n",
       "2              3   39770481.0  70629629.0\n",
       "3              4   50298765.0  81244871.0\n",
       "4              5   23383753.0  88005542.0\n",
       "...          ...          ...         ...\n",
       "4003959  4003960   22997615.0  76578060.0\n",
       "4003960  4003961   52840571.0  48208738.0\n",
       "4003961  4003962   52840571.0  11830182.0\n",
       "4003962  4003963   52840571.0  73524810.0\n",
       "4003963  4003964          NaN         NaN\n",
       "\n",
       "[4003964 rows x 3 columns]>"
      ]
     },
     "execution_count": 16,
     "metadata": {},
     "output_type": "execute_result"
    }
   ],
   "execution_count": 16
  },
  {
   "metadata": {
    "ExecuteTime": {
     "end_time": "2024-10-02T10:52:22.515425Z",
     "start_time": "2024-10-02T10:52:22.489340Z"
    }
   },
   "cell_type": "code",
   "source": "df_customer_orders.isna().sum()",
   "id": "f8b95accd9c52e7b",
   "outputs": [
    {
     "data": {
      "text/plain": [
       "number         0\n",
       "customer_id    1\n",
       "order_id       1\n",
       "dtype: int64"
      ]
     },
     "execution_count": 17,
     "metadata": {},
     "output_type": "execute_result"
    }
   ],
   "execution_count": 17
  },
  {
   "metadata": {
    "ExecuteTime": {
     "end_time": "2024-10-02T10:52:22.606495Z",
     "start_time": "2024-10-02T10:52:22.542985Z"
    }
   },
   "cell_type": "code",
   "source": "df_customer_orders_cleaned = df_customer_orders.dropna(axis=0, how='any')",
   "id": "a153ff6b7e8f4366",
   "outputs": [],
   "execution_count": 18
  },
  {
   "metadata": {},
   "cell_type": "markdown",
   "source": "Removing NaN values",
   "id": "4168c08dc547387e"
  },
  {
   "metadata": {
    "ExecuteTime": {
     "end_time": "2024-10-02T10:52:22.641319Z",
     "start_time": "2024-10-02T10:52:22.621435Z"
    }
   },
   "cell_type": "code",
   "source": "df_customer_orders_cleaned = df_customer_orders_cleaned.drop(df_customer_orders_cleaned.columns[0], axis=1)",
   "id": "feb9b5530f0c2d5d",
   "outputs": [],
   "execution_count": 19
  },
  {
   "metadata": {},
   "cell_type": "markdown",
   "source": "Removing the column \"number\", there is a DataFrame index\n",
   "id": "3ce3855f36012d8a"
  },
  {
   "metadata": {
    "ExecuteTime": {
     "end_time": "2024-10-02T10:52:23.282057Z",
     "start_time": "2024-10-02T10:52:22.649211Z"
    }
   },
   "cell_type": "code",
   "source": "df_customer_orders_cleaned['order_id'].value_counts()",
   "id": "1e8d8abec5daea49",
   "outputs": [
    {
     "data": {
      "text/plain": [
       "order_id\n",
       "73524810.0    1\n",
       "82168832.0    1\n",
       "38300086.0    1\n",
       "70629629.0    1\n",
       "81244871.0    1\n",
       "             ..\n",
       "69298095.0    1\n",
       "54454171.0    1\n",
       "57013927.0    1\n",
       "59745019.0    1\n",
       "82144028.0    1\n",
       "Name: count, Length: 4003963, dtype: int64"
      ]
     },
     "execution_count": 20,
     "metadata": {},
     "output_type": "execute_result"
    }
   ],
   "execution_count": 20
  },
  {
   "metadata": {},
   "cell_type": "markdown",
   "source": "Checking that order_id is unique, each order is only once",
   "id": "94b941b7ac85ba3a"
  },
  {
   "metadata": {
    "ExecuteTime": {
     "end_time": "2024-10-02T10:52:23.454264Z",
     "start_time": "2024-10-02T10:52:23.304454Z"
    }
   },
   "cell_type": "code",
   "source": "df_customer_orders_cleaned['customer_id'].value_counts()",
   "id": "354fda8228096975",
   "outputs": [
    {
     "data": {
      "text/plain": [
       "customer_id\n",
       "3362773.0     8\n",
       "25466936.0    8\n",
       "42254578.0    8\n",
       "2674548.0     8\n",
       "74602669.0    8\n",
       "             ..\n",
       "39770481.0    1\n",
       "50298765.0    1\n",
       "23383753.0    1\n",
       "2789905.0     1\n",
       "59657798.0    1\n",
       "Name: count, Length: 1060705, dtype: int64"
      ]
     },
     "execution_count": 21,
     "metadata": {},
     "output_type": "execute_result"
    }
   ],
   "execution_count": 21
  },
  {
   "metadata": {},
   "cell_type": "markdown",
   "source": "Checking the number of orders per customer",
   "id": "9c325c45e970a155"
  },
  {
   "metadata": {
    "ExecuteTime": {
     "end_time": "2024-10-02T10:52:23.515682Z",
     "start_time": "2024-10-02T10:52:23.506965Z"
    }
   },
   "cell_type": "code",
   "source": [
    "test_customer_order_id = df_customer_orders_cleaned[df_customer_orders_cleaned['customer_id'] == 3362773.0]\n",
    "test_customer_order_id"
   ],
   "id": "1c3da022906cbfc6",
   "outputs": [
    {
     "data": {
      "text/plain": [
       "        customer_id    order_id\n",
       "957010    3362773.0  87466247.0\n",
       "957011    3362773.0  63875100.0\n",
       "957012    3362773.0  50576772.0\n",
       "957013    3362773.0  63834651.0\n",
       "957014    3362773.0  78236840.0\n",
       "957015    3362773.0  90039906.0\n",
       "957016    3362773.0  57651900.0\n",
       "957017    3362773.0  61494484.0"
      ],
      "text/html": [
       "<div>\n",
       "<style scoped>\n",
       "    .dataframe tbody tr th:only-of-type {\n",
       "        vertical-align: middle;\n",
       "    }\n",
       "\n",
       "    .dataframe tbody tr th {\n",
       "        vertical-align: top;\n",
       "    }\n",
       "\n",
       "    .dataframe thead th {\n",
       "        text-align: right;\n",
       "    }\n",
       "</style>\n",
       "<table border=\"1\" class=\"dataframe\">\n",
       "  <thead>\n",
       "    <tr style=\"text-align: right;\">\n",
       "      <th></th>\n",
       "      <th>customer_id</th>\n",
       "      <th>order_id</th>\n",
       "    </tr>\n",
       "  </thead>\n",
       "  <tbody>\n",
       "    <tr>\n",
       "      <th>957010</th>\n",
       "      <td>3362773.0</td>\n",
       "      <td>87466247.0</td>\n",
       "    </tr>\n",
       "    <tr>\n",
       "      <th>957011</th>\n",
       "      <td>3362773.0</td>\n",
       "      <td>63875100.0</td>\n",
       "    </tr>\n",
       "    <tr>\n",
       "      <th>957012</th>\n",
       "      <td>3362773.0</td>\n",
       "      <td>50576772.0</td>\n",
       "    </tr>\n",
       "    <tr>\n",
       "      <th>957013</th>\n",
       "      <td>3362773.0</td>\n",
       "      <td>63834651.0</td>\n",
       "    </tr>\n",
       "    <tr>\n",
       "      <th>957014</th>\n",
       "      <td>3362773.0</td>\n",
       "      <td>78236840.0</td>\n",
       "    </tr>\n",
       "    <tr>\n",
       "      <th>957015</th>\n",
       "      <td>3362773.0</td>\n",
       "      <td>90039906.0</td>\n",
       "    </tr>\n",
       "    <tr>\n",
       "      <th>957016</th>\n",
       "      <td>3362773.0</td>\n",
       "      <td>57651900.0</td>\n",
       "    </tr>\n",
       "    <tr>\n",
       "      <th>957017</th>\n",
       "      <td>3362773.0</td>\n",
       "      <td>61494484.0</td>\n",
       "    </tr>\n",
       "  </tbody>\n",
       "</table>\n",
       "</div>"
      ]
     },
     "execution_count": 22,
     "metadata": {},
     "output_type": "execute_result"
    }
   ],
   "execution_count": 22
  },
  {
   "metadata": {},
   "cell_type": "markdown",
   "source": "Checking if the orders of a customer are different",
   "id": "b47ef3620219680d"
  }
 ],
 "metadata": {
  "kernelspec": {
   "display_name": "Python 3",
   "language": "python",
   "name": "python3"
  },
  "language_info": {
   "codemirror_mode": {
    "name": "ipython",
    "version": 2
   },
   "file_extension": ".py",
   "mimetype": "text/x-python",
   "name": "python",
   "nbconvert_exporter": "python",
   "pygments_lexer": "ipython2",
   "version": "2.7.6"
  }
 },
 "nbformat": 4,
 "nbformat_minor": 5
}
