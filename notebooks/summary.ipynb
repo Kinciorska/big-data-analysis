{
 "cells": [
  {
   "metadata": {},
   "cell_type": "markdown",
   "source": "## Big Data Analysis",
   "id": "2db43d499c399936"
  },
  {
   "metadata": {},
   "cell_type": "markdown",
   "source": [
    "#### Preparation\n",
    "Load the data from the notebooks"
   ],
   "id": "fe96e16565deac7e"
  },
  {
   "metadata": {
    "collapsed": true,
    "ExecuteTime": {
     "end_time": "2024-10-02T10:55:27.137065Z",
     "start_time": "2024-10-02T10:55:16.614760Z"
    }
   },
   "cell_type": "code",
   "source": [
    "%run customers_zip.ipynb\n",
    "%run customer_orders.ipynb\n",
    "%run orders.ipynb\n",
    "%run sports.ipynb\n",
    "%run customer_zip_orders.ipynb"
   ],
   "id": "initial_id",
   "outputs": [],
   "execution_count": 14
  },
  {
   "metadata": {},
   "cell_type": "markdown",
   "source": "#### 1. How many customers practice more than 2 sports?",
   "id": "b5f03c3495ece9e5"
  },
  {
   "metadata": {
    "ExecuteTime": {
     "end_time": "2024-10-02T10:55:27.268101Z",
     "start_time": "2024-10-02T10:55:27.137065Z"
    }
   },
   "cell_type": "code",
   "source": "df_sports_cleaned['customer_id'].value_counts()[n_o_sports > 2].count()",
   "id": "3ad54fb945da0a94",
   "outputs": [
    {
     "data": {
      "text/plain": [
       "np.int64(5040)"
      ]
     },
     "execution_count": 15,
     "metadata": {},
     "output_type": "execute_result"
    }
   ],
   "execution_count": 15
  },
  {
   "metadata": {},
   "cell_type": "markdown",
   "source": "There are 5040 clients who practice more than two sports. The detailed analysis is in the file sports.ipynb",
   "id": "a8f2fdcaa6e08acc"
  },
  {
   "metadata": {},
   "cell_type": "markdown",
   "source": "#### 2. Which sport is the least popular among customers?",
   "id": "433be0c7f2359e36"
  },
  {
   "metadata": {
    "ExecuteTime": {
     "end_time": "2024-10-02T10:55:27.367750Z",
     "start_time": "2024-10-02T10:55:27.332316Z"
    }
   },
   "cell_type": "code",
   "source": "df_sports_cleaned['sport'].value_counts(sort=True, ascending=True)",
   "id": "f7f372f19a3c5f9",
   "outputs": [
    {
     "data": {
      "text/plain": [
       "sport\n",
       "hokej           21409\n",
       "chodzenie       21423\n",
       "snowboard       21472\n",
       "judo            21476\n",
       "aquafitness     21566\n",
       "karate          21695\n",
       "rowery          43038\n",
       "bieganie        53111\n",
       "jezdziectwo     63640\n",
       "myslistwo      191489\n",
       "nurkowanie     211743\n",
       "lucznictwo     222829\n",
       "plywanie       274855\n",
       "Name: count, dtype: int64"
      ]
     },
     "execution_count": 16,
     "metadata": {},
     "output_type": "execute_result"
    }
   ],
   "execution_count": 16
  },
  {
   "metadata": {},
   "cell_type": "markdown",
   "source": "From the table containing information about the occurrences of sport type in the data set it can be concluded that hockey (hokej) is the least popular sport. The detailed analysis is in the file sports.ipynb",
   "id": "88b362a607e42033"
  },
  {
   "metadata": {},
   "cell_type": "markdown",
   "source": "#### 3. What is the average order value?",
   "id": "79a7dbc0b47cdf69"
  },
  {
   "metadata": {},
   "cell_type": "markdown",
   "source": "There are occurencies of orders with negative values, they were removed from the data set as I accounted them as returns from the customers. There were orders which had different id's but identical order_id's and values, I removed the duplicates.",
   "id": "cc2ff2122b85b7e5"
  },
  {
   "metadata": {
    "ExecuteTime": {
     "end_time": "2024-10-02T10:55:27.636434Z",
     "start_time": "2024-10-02T10:55:27.401841Z"
    }
   },
   "cell_type": "code",
   "source": "df_orders_cleaned.describe()",
   "id": "3ac818b067536de3",
   "outputs": [
    {
     "data": {
      "text/plain": [
       "           order_id         value\n",
       "count  3.964073e+06  3.964073e+06\n",
       "mean   5.503874e+07  2.565577e+04\n",
       "std    2.589908e+07  4.066933e+05\n",
       "min    1.018763e+07  1.000000e+01\n",
       "25%    3.261849e+07  2.094000e+02\n",
       "50%    5.501393e+07  4.090400e+02\n",
       "75%    7.746140e+07  6.085100e+02\n",
       "max    9.991874e+07  8.000000e+06"
      ],
      "text/html": [
       "<div>\n",
       "<style scoped>\n",
       "    .dataframe tbody tr th:only-of-type {\n",
       "        vertical-align: middle;\n",
       "    }\n",
       "\n",
       "    .dataframe tbody tr th {\n",
       "        vertical-align: top;\n",
       "    }\n",
       "\n",
       "    .dataframe thead th {\n",
       "        text-align: right;\n",
       "    }\n",
       "</style>\n",
       "<table border=\"1\" class=\"dataframe\">\n",
       "  <thead>\n",
       "    <tr style=\"text-align: right;\">\n",
       "      <th></th>\n",
       "      <th>order_id</th>\n",
       "      <th>value</th>\n",
       "    </tr>\n",
       "  </thead>\n",
       "  <tbody>\n",
       "    <tr>\n",
       "      <th>count</th>\n",
       "      <td>3.964073e+06</td>\n",
       "      <td>3.964073e+06</td>\n",
       "    </tr>\n",
       "    <tr>\n",
       "      <th>mean</th>\n",
       "      <td>5.503874e+07</td>\n",
       "      <td>2.565577e+04</td>\n",
       "    </tr>\n",
       "    <tr>\n",
       "      <th>std</th>\n",
       "      <td>2.589908e+07</td>\n",
       "      <td>4.066933e+05</td>\n",
       "    </tr>\n",
       "    <tr>\n",
       "      <th>min</th>\n",
       "      <td>1.018763e+07</td>\n",
       "      <td>1.000000e+01</td>\n",
       "    </tr>\n",
       "    <tr>\n",
       "      <th>25%</th>\n",
       "      <td>3.261849e+07</td>\n",
       "      <td>2.094000e+02</td>\n",
       "    </tr>\n",
       "    <tr>\n",
       "      <th>50%</th>\n",
       "      <td>5.501393e+07</td>\n",
       "      <td>4.090400e+02</td>\n",
       "    </tr>\n",
       "    <tr>\n",
       "      <th>75%</th>\n",
       "      <td>7.746140e+07</td>\n",
       "      <td>6.085100e+02</td>\n",
       "    </tr>\n",
       "    <tr>\n",
       "      <th>max</th>\n",
       "      <td>9.991874e+07</td>\n",
       "      <td>8.000000e+06</td>\n",
       "    </tr>\n",
       "  </tbody>\n",
       "</table>\n",
       "</div>"
      ]
     },
     "execution_count": 17,
     "metadata": {},
     "output_type": "execute_result"
    }
   ],
   "execution_count": 17
  },
  {
   "metadata": {},
   "cell_type": "markdown",
   "source": "The table containing the statistics of the orders in the data set shows that the average order value is 25655,77. The detailed analysis is in the file orders.ipynb\n",
   "id": "89f0b4a40f651bc8"
  },
  {
   "metadata": {},
   "cell_type": "markdown",
   "source": "#### 4. From which postal code do customers most frequently make purchases, and what is the average value of their orders?",
   "id": "b1f4f60d2365459c"
  },
  {
   "metadata": {},
   "cell_type": "markdown",
   "source": [
    "##### There are rare occurencies of clients having two postal codes. I calculated the most popular postal codes in two ways:\n",
    "- the client has two houses - I used both postal codes\n",
    "- the client moved over the years - I used the newest postal code\n"
   ],
   "id": "eb5b349028a97d89"
  },
  {
   "metadata": {
    "ExecuteTime": {
     "end_time": "2024-10-02T10:55:27.700607Z",
     "start_time": "2024-10-02T10:55:27.667913Z"
    }
   },
   "cell_type": "code",
   "source": "df_customers_multiple_zip_cleaned['zip_cust'].value_counts()",
   "id": "238022e78736a03b",
   "outputs": [
    {
     "data": {
      "text/plain": [
       "zip_cust\n",
       "12-091    323\n",
       "92-241    313\n",
       "22-661    311\n",
       "51-350    307\n",
       "02-190    305\n",
       "         ... \n",
       "30-000    207\n",
       "60-021    207\n",
       "21-610    206\n",
       "42-670    205\n",
       "00-650    191\n",
       "Name: count, Length: 4200, dtype: int64"
      ]
     },
     "execution_count": 18,
     "metadata": {},
     "output_type": "execute_result"
    }
   ],
   "execution_count": 18
  },
  {
   "metadata": {
    "ExecuteTime": {
     "end_time": "2024-10-02T10:55:27.767032Z",
     "start_time": "2024-10-02T10:55:27.733677Z"
    }
   },
   "cell_type": "code",
   "source": "df_customers_one_zip_cleaned['zip_cust'].value_counts()",
   "id": "2d6e0441f9427d1a",
   "outputs": [
    {
     "data": {
      "text/plain": [
       "zip_cust\n",
       "12-091    321\n",
       "92-241    312\n",
       "22-661    311\n",
       "51-350    306\n",
       "90-331    305\n",
       "         ... \n",
       "60-021    206\n",
       "30-000    206\n",
       "21-610    205\n",
       "42-670    205\n",
       "00-650    191\n",
       "Name: count, Length: 4200, dtype: int64"
      ]
     },
     "execution_count": 19,
     "metadata": {},
     "output_type": "execute_result"
    }
   ],
   "execution_count": 19
  },
  {
   "metadata": {},
   "cell_type": "markdown",
   "source": "Regardless of whether we consider that the client has multiple homes or had moved, the most clients are from postal code 12-091. The detailed analysis is in the file customers_zip.ipynb",
   "id": "7b80ed390e739631"
  },
  {
   "metadata": {
    "ExecuteTime": {
     "end_time": "2024-10-02T10:55:27.806674Z",
     "start_time": "2024-10-02T10:55:27.798769Z"
    }
   },
   "cell_type": "code",
   "source": "df_customer_order_values_most_popular_zip.describe()",
   "id": "8443cca08dae53b8",
   "outputs": [
    {
     "data": {
      "text/plain": [
       "        customer_id      order_id         value\n",
       "count  1.221000e+03  1.221000e+03  1.221000e+03\n",
       "mean   4.286482e+07  5.667211e+07  4.951942e+04\n",
       "std    2.699547e+07  2.656229e+07  5.726021e+05\n",
       "min    6.431100e+04  1.030328e+07  1.174000e+01\n",
       "25%    1.929414e+07  3.341342e+07  2.231400e+02\n",
       "50%    4.198518e+07  5.791053e+07  4.130900e+02\n",
       "75%    6.740764e+07  7.931701e+07  6.053600e+02\n",
       "max    8.913473e+07  9.986605e+07  7.612700e+06"
      ],
      "text/html": [
       "<div>\n",
       "<style scoped>\n",
       "    .dataframe tbody tr th:only-of-type {\n",
       "        vertical-align: middle;\n",
       "    }\n",
       "\n",
       "    .dataframe tbody tr th {\n",
       "        vertical-align: top;\n",
       "    }\n",
       "\n",
       "    .dataframe thead th {\n",
       "        text-align: right;\n",
       "    }\n",
       "</style>\n",
       "<table border=\"1\" class=\"dataframe\">\n",
       "  <thead>\n",
       "    <tr style=\"text-align: right;\">\n",
       "      <th></th>\n",
       "      <th>customer_id</th>\n",
       "      <th>order_id</th>\n",
       "      <th>value</th>\n",
       "    </tr>\n",
       "  </thead>\n",
       "  <tbody>\n",
       "    <tr>\n",
       "      <th>count</th>\n",
       "      <td>1.221000e+03</td>\n",
       "      <td>1.221000e+03</td>\n",
       "      <td>1.221000e+03</td>\n",
       "    </tr>\n",
       "    <tr>\n",
       "      <th>mean</th>\n",
       "      <td>4.286482e+07</td>\n",
       "      <td>5.667211e+07</td>\n",
       "      <td>4.951942e+04</td>\n",
       "    </tr>\n",
       "    <tr>\n",
       "      <th>std</th>\n",
       "      <td>2.699547e+07</td>\n",
       "      <td>2.656229e+07</td>\n",
       "      <td>5.726021e+05</td>\n",
       "    </tr>\n",
       "    <tr>\n",
       "      <th>min</th>\n",
       "      <td>6.431100e+04</td>\n",
       "      <td>1.030328e+07</td>\n",
       "      <td>1.174000e+01</td>\n",
       "    </tr>\n",
       "    <tr>\n",
       "      <th>25%</th>\n",
       "      <td>1.929414e+07</td>\n",
       "      <td>3.341342e+07</td>\n",
       "      <td>2.231400e+02</td>\n",
       "    </tr>\n",
       "    <tr>\n",
       "      <th>50%</th>\n",
       "      <td>4.198518e+07</td>\n",
       "      <td>5.791053e+07</td>\n",
       "      <td>4.130900e+02</td>\n",
       "    </tr>\n",
       "    <tr>\n",
       "      <th>75%</th>\n",
       "      <td>6.740764e+07</td>\n",
       "      <td>7.931701e+07</td>\n",
       "      <td>6.053600e+02</td>\n",
       "    </tr>\n",
       "    <tr>\n",
       "      <th>max</th>\n",
       "      <td>8.913473e+07</td>\n",
       "      <td>9.986605e+07</td>\n",
       "      <td>7.612700e+06</td>\n",
       "    </tr>\n",
       "  </tbody>\n",
       "</table>\n",
       "</div>"
      ]
     },
     "execution_count": 20,
     "metadata": {},
     "output_type": "execute_result"
    }
   ],
   "execution_count": 20
  },
  {
   "metadata": {},
   "cell_type": "markdown",
   "source": "The table containing the statistics of the orders from customers with postal code 12-091 shows that the average order value is 49519,42. The detailed analysis is in the file customer_zip_orders.ipynb\n",
   "id": "462dc72563857a4"
  }
 ],
 "metadata": {
  "kernelspec": {
   "display_name": "Python 3",
   "language": "python",
   "name": "python3"
  },
  "language_info": {
   "codemirror_mode": {
    "name": "ipython",
    "version": 2
   },
   "file_extension": ".py",
   "mimetype": "text/x-python",
   "name": "python",
   "nbconvert_exporter": "python",
   "pygments_lexer": "ipython2",
   "version": "2.7.6"
  }
 },
 "nbformat": 4,
 "nbformat_minor": 5
}
