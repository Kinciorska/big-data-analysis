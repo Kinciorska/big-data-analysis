{
 "cells": [
  {
   "cell_type": "code",
   "id": "initial_id",
   "metadata": {
    "collapsed": true,
    "ExecuteTime": {
     "end_time": "2024-10-02T10:54:14.149308Z",
     "start_time": "2024-10-02T10:54:14.138923Z"
    }
   },
   "source": "import pandas as pd",
   "outputs": [],
   "execution_count": 34
  },
  {
   "metadata": {
    "ExecuteTime": {
     "end_time": "2024-10-02T10:54:14.367406Z",
     "start_time": "2024-10-02T10:54:14.149308Z"
    }
   },
   "cell_type": "code",
   "source": [
    "df_sports = pd.read_csv('/Users/kinga/Documents/DataScience/Task/sports.csv', names=['number', 'customer_id', 'sport'], header=0)\n",
    "df_sports.head()"
   ],
   "id": "367e003fc8c1c114",
   "outputs": [
    {
     "data": {
      "text/plain": [
       "   number  customer_id       sport\n",
       "0       1   77461851.0    p3ywanie\n",
       "1       2   37934116.0   myolistwo\n",
       "2       3   39770481.0  3ucznictwo\n",
       "3       4   50298765.0  nurkowanie\n",
       "4       5   23383753.0  3ucznictwo"
      ],
      "text/html": [
       "<div>\n",
       "<style scoped>\n",
       "    .dataframe tbody tr th:only-of-type {\n",
       "        vertical-align: middle;\n",
       "    }\n",
       "\n",
       "    .dataframe tbody tr th {\n",
       "        vertical-align: top;\n",
       "    }\n",
       "\n",
       "    .dataframe thead th {\n",
       "        text-align: right;\n",
       "    }\n",
       "</style>\n",
       "<table border=\"1\" class=\"dataframe\">\n",
       "  <thead>\n",
       "    <tr style=\"text-align: right;\">\n",
       "      <th></th>\n",
       "      <th>number</th>\n",
       "      <th>customer_id</th>\n",
       "      <th>sport</th>\n",
       "    </tr>\n",
       "  </thead>\n",
       "  <tbody>\n",
       "    <tr>\n",
       "      <th>0</th>\n",
       "      <td>1</td>\n",
       "      <td>77461851.0</td>\n",
       "      <td>p3ywanie</td>\n",
       "    </tr>\n",
       "    <tr>\n",
       "      <th>1</th>\n",
       "      <td>2</td>\n",
       "      <td>37934116.0</td>\n",
       "      <td>myolistwo</td>\n",
       "    </tr>\n",
       "    <tr>\n",
       "      <th>2</th>\n",
       "      <td>3</td>\n",
       "      <td>39770481.0</td>\n",
       "      <td>3ucznictwo</td>\n",
       "    </tr>\n",
       "    <tr>\n",
       "      <th>3</th>\n",
       "      <td>4</td>\n",
       "      <td>50298765.0</td>\n",
       "      <td>nurkowanie</td>\n",
       "    </tr>\n",
       "    <tr>\n",
       "      <th>4</th>\n",
       "      <td>5</td>\n",
       "      <td>23383753.0</td>\n",
       "      <td>3ucznictwo</td>\n",
       "    </tr>\n",
       "  </tbody>\n",
       "</table>\n",
       "</div>"
      ]
     },
     "execution_count": 35,
     "metadata": {},
     "output_type": "execute_result"
    }
   ],
   "execution_count": 35
  },
  {
   "metadata": {
    "ExecuteTime": {
     "end_time": "2024-10-02T10:54:14.393368Z",
     "start_time": "2024-10-02T10:54:14.388861Z"
    }
   },
   "cell_type": "code",
   "source": "df_sports.info",
   "id": "b07a1ed630077268",
   "outputs": [
    {
     "data": {
      "text/plain": [
       "<bound method DataFrame.info of           number  customer_id        sport\n",
       "0              1   77461851.0     p3ywanie\n",
       "1              2   37934116.0    myolistwo\n",
       "2              3   39770481.0   3ucznictwo\n",
       "3              4   50298765.0   nurkowanie\n",
       "4              5   23383753.0   3ucznictwo\n",
       "...          ...          ...          ...\n",
       "1189742  1189743   70183840.0   nurkowanie\n",
       "1189743  1189744   39250750.0  jeYdziectwo\n",
       "1189744  1189745   22997615.0    myolistwo\n",
       "1189745  1189746   52840571.0   nurkowanie\n",
       "1189746  1189747          NaN          NaN\n",
       "\n",
       "[1189747 rows x 3 columns]>"
      ]
     },
     "execution_count": 36,
     "metadata": {},
     "output_type": "execute_result"
    }
   ],
   "execution_count": 36
  },
  {
   "metadata": {
    "ExecuteTime": {
     "end_time": "2024-10-02T10:54:14.511954Z",
     "start_time": "2024-10-02T10:54:14.467747Z"
    }
   },
   "cell_type": "code",
   "source": "df_sports.isna().sum()",
   "id": "f1313b6e5d6a2d77",
   "outputs": [
    {
     "data": {
      "text/plain": [
       "number         0\n",
       "customer_id    1\n",
       "sport          1\n",
       "dtype: int64"
      ]
     },
     "execution_count": 37,
     "metadata": {},
     "output_type": "execute_result"
    }
   ],
   "execution_count": 37
  },
  {
   "metadata": {
    "ExecuteTime": {
     "end_time": "2024-10-02T10:54:14.581323Z",
     "start_time": "2024-10-02T10:54:14.531853Z"
    }
   },
   "cell_type": "code",
   "source": "df_sports_cleaned = df_sports.dropna(axis=0, how='any')",
   "id": "a382d1052352c491",
   "outputs": [],
   "execution_count": 38
  },
  {
   "metadata": {},
   "cell_type": "markdown",
   "source": "Removing NaN values",
   "id": "84adfbaa09753a65"
  },
  {
   "metadata": {
    "ExecuteTime": {
     "end_time": "2024-10-02T10:54:14.611193Z",
     "start_time": "2024-10-02T10:54:14.598282Z"
    }
   },
   "cell_type": "code",
   "source": "df_sports_cleaned = df_sports_cleaned.drop(df_sports_cleaned.columns[0], axis=1)",
   "id": "8472ec5e31d41d6",
   "outputs": [],
   "execution_count": 39
  },
  {
   "metadata": {},
   "cell_type": "markdown",
   "source": "Removing the column \"number\", there is a DataFrame index",
   "id": "2e27b77f167e6523"
  },
  {
   "metadata": {
    "ExecuteTime": {
     "end_time": "2024-10-02T10:54:14.657648Z",
     "start_time": "2024-10-02T10:54:14.611193Z"
    }
   },
   "cell_type": "code",
   "source": [
    "sport_types = df_sports_cleaned['sport'].unique()\n",
    "sport_types"
   ],
   "id": "5b3783792562849d",
   "outputs": [
    {
     "data": {
      "text/plain": [
       "array(['p3ywanie', 'myolistwo', '3ucznictwo', 'nurkowanie', 'bieganie',\n",
       "       'jeYdziectwo', 'rowery', 'myslistwo', 'karate', 'aquafitness',\n",
       "       'chodzenie', 'judo', 'hokej', 'snowboard'], dtype=object)"
      ]
     },
     "execution_count": 40,
     "metadata": {},
     "output_type": "execute_result"
    }
   ],
   "execution_count": 40
  },
  {
   "metadata": {},
   "cell_type": "markdown",
   "source": "Checking the number of unique values in \"sport\"\n",
   "id": "f1232a1f033142bf"
  },
  {
   "metadata": {
    "ExecuteTime": {
     "end_time": "2024-10-02T10:54:14.715053Z",
     "start_time": "2024-10-02T10:54:14.671482Z"
    }
   },
   "cell_type": "code",
   "source": "df_sports_cleaned.loc[df_sports_cleaned['sport'] == 'myolistwo', 'sport'] = 'myslistwo'",
   "id": "799a88fe581349af",
   "outputs": [],
   "execution_count": 41
  },
  {
   "metadata": {
    "ExecuteTime": {
     "end_time": "2024-10-02T10:54:14.766524Z",
     "start_time": "2024-10-02T10:54:14.715053Z"
    }
   },
   "cell_type": "code",
   "source": "df_sports_cleaned.loc[df_sports_cleaned['sport'] == '3ucznictwo', 'sport'] = 'lucznictwo'",
   "id": "a868d707e1f653ed",
   "outputs": [],
   "execution_count": 42
  },
  {
   "metadata": {
    "ExecuteTime": {
     "end_time": "2024-10-02T10:54:14.817444Z",
     "start_time": "2024-10-02T10:54:14.773221Z"
    }
   },
   "cell_type": "code",
   "source": "df_sports_cleaned.loc[df_sports_cleaned['sport'] == 'jeYdziectwo', 'sport'] = 'jezdziectwo'",
   "id": "b2617b5b08d8dac",
   "outputs": [],
   "execution_count": 43
  },
  {
   "metadata": {
    "ExecuteTime": {
     "end_time": "2024-10-02T10:54:14.874413Z",
     "start_time": "2024-10-02T10:54:14.823567Z"
    }
   },
   "cell_type": "code",
   "source": "df_sports_cleaned.loc[df_sports_cleaned['sport'] == 'p3ywanie', 'sport'] = 'plywanie'\n",
   "id": "20ef12eafe2a360",
   "outputs": [],
   "execution_count": 44
  },
  {
   "metadata": {},
   "cell_type": "markdown",
   "source": "Cleaning the sport names",
   "id": "e4615312df6c459e"
  },
  {
   "metadata": {
    "ExecuteTime": {
     "end_time": "2024-10-02T10:54:14.967521Z",
     "start_time": "2024-10-02T10:54:14.932726Z"
    }
   },
   "cell_type": "code",
   "source": "df_sports_cleaned['sport'].value_counts(sort=True, ascending=True)",
   "id": "4f6ebe2fb5fa045e",
   "outputs": [
    {
     "data": {
      "text/plain": [
       "sport\n",
       "hokej           21409\n",
       "chodzenie       21423\n",
       "snowboard       21472\n",
       "judo            21476\n",
       "aquafitness     21566\n",
       "karate          21695\n",
       "rowery          43038\n",
       "bieganie        53111\n",
       "jezdziectwo     63640\n",
       "myslistwo      191489\n",
       "nurkowanie     211743\n",
       "lucznictwo     222829\n",
       "plywanie       274855\n",
       "Name: count, dtype: int64"
      ]
     },
     "execution_count": 46,
     "metadata": {},
     "output_type": "execute_result"
    }
   ],
   "execution_count": 46
  },
  {
   "metadata": {},
   "cell_type": "markdown",
   "source": "The least popular sport is hockey (hokej)",
   "id": "c2d7a2a2e90c40bb"
  },
  {
   "metadata": {
    "ExecuteTime": {
     "end_time": "2024-10-02T10:54:15.120842Z",
     "start_time": "2024-10-02T10:54:14.988698Z"
    }
   },
   "cell_type": "code",
   "source": [
    "n_o_sports = df_sports_cleaned['customer_id'].value_counts()\n",
    "n_o_sports"
   ],
   "id": "cf6391b7caae5b1e",
   "outputs": [
    {
     "data": {
      "text/plain": [
       "customer_id\n",
       "58372354.0    3\n",
       "31293700.0    3\n",
       "73689399.0    3\n",
       "25310262.0    3\n",
       "37389217.0    3\n",
       "             ..\n",
       "4198067.0     1\n",
       "10856715.0    1\n",
       "8091621.0     1\n",
       "50883872.0    1\n",
       "14246106.0    1\n",
       "Name: count, Length: 1060705, dtype: int64"
      ]
     },
     "execution_count": 47,
     "metadata": {},
     "output_type": "execute_result"
    }
   ],
   "execution_count": 47
  },
  {
   "metadata": {
    "ExecuteTime": {
     "end_time": "2024-10-02T10:54:15.164117Z",
     "start_time": "2024-10-02T10:54:15.158670Z"
    }
   },
   "cell_type": "code",
   "source": [
    "multiple_sports = n_o_sports[n_o_sports > 2]\n",
    "multiple_sports.count()"
   ],
   "id": "65e723b08f1e8f",
   "outputs": [
    {
     "data": {
      "text/plain": [
       "np.int64(5040)"
      ]
     },
     "execution_count": 48,
     "metadata": {},
     "output_type": "execute_result"
    }
   ],
   "execution_count": 48
  },
  {
   "metadata": {},
   "cell_type": "markdown",
   "source": "There are 5040 clients who practice more than two sports",
   "id": "3c2e579ffc2b1b73"
  }
 ],
 "metadata": {
  "kernelspec": {
   "display_name": "Python 3",
   "language": "python",
   "name": "python3"
  },
  "language_info": {
   "codemirror_mode": {
    "name": "ipython",
    "version": 2
   },
   "file_extension": ".py",
   "mimetype": "text/x-python",
   "name": "python",
   "nbconvert_exporter": "python",
   "pygments_lexer": "ipython2",
   "version": "2.7.6"
  }
 },
 "nbformat": 4,
 "nbformat_minor": 5
}
