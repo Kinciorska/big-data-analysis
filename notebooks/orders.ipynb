{
 "cells": [
  {
   "cell_type": "code",
   "id": "initial_id",
   "metadata": {
    "collapsed": true,
    "ExecuteTime": {
     "end_time": "2024-10-02T10:53:53.083514Z",
     "start_time": "2024-10-02T10:53:53.068447Z"
    }
   },
   "source": "import pandas as pd",
   "outputs": [],
   "execution_count": 134
  },
  {
   "metadata": {
    "ExecuteTime": {
     "end_time": "2024-10-02T10:53:53.674699Z",
     "start_time": "2024-10-02T10:53:53.084519Z"
    }
   },
   "cell_type": "code",
   "source": [
    "df_orders = pd.read_csv('/Users/kinga/Documents/DataScience/Task/orders.csv', names=['number', 'order_id', 'value'], header=0)\n",
    "df_orders.head()"
   ],
   "id": "c3188e707fa5760e",
   "outputs": [
    {
     "data": {
      "text/plain": [
       "   number    order_id   value\n",
       "0       1  82168832.0  240.29\n",
       "1       2  38300086.0  730.12\n",
       "2       3  70629629.0  145.04\n",
       "3       4  81244871.0  472.24\n",
       "4       5  88005542.0  354.54"
      ],
      "text/html": [
       "<div>\n",
       "<style scoped>\n",
       "    .dataframe tbody tr th:only-of-type {\n",
       "        vertical-align: middle;\n",
       "    }\n",
       "\n",
       "    .dataframe tbody tr th {\n",
       "        vertical-align: top;\n",
       "    }\n",
       "\n",
       "    .dataframe thead th {\n",
       "        text-align: right;\n",
       "    }\n",
       "</style>\n",
       "<table border=\"1\" class=\"dataframe\">\n",
       "  <thead>\n",
       "    <tr style=\"text-align: right;\">\n",
       "      <th></th>\n",
       "      <th>number</th>\n",
       "      <th>order_id</th>\n",
       "      <th>value</th>\n",
       "    </tr>\n",
       "  </thead>\n",
       "  <tbody>\n",
       "    <tr>\n",
       "      <th>0</th>\n",
       "      <td>1</td>\n",
       "      <td>82168832.0</td>\n",
       "      <td>240.29</td>\n",
       "    </tr>\n",
       "    <tr>\n",
       "      <th>1</th>\n",
       "      <td>2</td>\n",
       "      <td>38300086.0</td>\n",
       "      <td>730.12</td>\n",
       "    </tr>\n",
       "    <tr>\n",
       "      <th>2</th>\n",
       "      <td>3</td>\n",
       "      <td>70629629.0</td>\n",
       "      <td>145.04</td>\n",
       "    </tr>\n",
       "    <tr>\n",
       "      <th>3</th>\n",
       "      <td>4</td>\n",
       "      <td>81244871.0</td>\n",
       "      <td>472.24</td>\n",
       "    </tr>\n",
       "    <tr>\n",
       "      <th>4</th>\n",
       "      <td>5</td>\n",
       "      <td>88005542.0</td>\n",
       "      <td>354.54</td>\n",
       "    </tr>\n",
       "  </tbody>\n",
       "</table>\n",
       "</div>"
      ]
     },
     "execution_count": 135,
     "metadata": {},
     "output_type": "execute_result"
    }
   ],
   "execution_count": 135
  },
  {
   "metadata": {
    "ExecuteTime": {
     "end_time": "2024-10-02T10:53:53.702794Z",
     "start_time": "2024-10-02T10:53:53.697011Z"
    }
   },
   "cell_type": "code",
   "source": "df_orders.info",
   "id": "bd10ad0b6d60faae",
   "outputs": [
    {
     "data": {
      "text/plain": [
       "<bound method DataFrame.info of            number    order_id   value\n",
       "0               1  82168832.0  240.29\n",
       "1               2  38300086.0  730.12\n",
       "2               3  70629629.0  145.04\n",
       "3               4  81244871.0  472.24\n",
       "4               5  88005542.0  354.54\n",
       "...           ...         ...     ...\n",
       "4003977  11310000  46861536.0  220.30\n",
       "4003978  11410000  73308696.0  208.33\n",
       "4003979  11510000  80131863.0  628.98\n",
       "4003980  11610000  82066694.0  139.71\n",
       "4003981  11710000  76207670.0  726.36\n",
       "\n",
       "[4003982 rows x 3 columns]>"
      ]
     },
     "execution_count": 136,
     "metadata": {},
     "output_type": "execute_result"
    }
   ],
   "execution_count": 136
  },
  {
   "metadata": {
    "ExecuteTime": {
     "end_time": "2024-10-02T10:53:53.819815Z",
     "start_time": "2024-10-02T10:53:53.796203Z"
    }
   },
   "cell_type": "code",
   "source": "df_orders.isna().sum()",
   "id": "6ad78bbc440fd042",
   "outputs": [
    {
     "data": {
      "text/plain": [
       "number      0\n",
       "order_id    1\n",
       "value       1\n",
       "dtype: int64"
      ]
     },
     "execution_count": 137,
     "metadata": {},
     "output_type": "execute_result"
    }
   ],
   "execution_count": 137
  },
  {
   "metadata": {},
   "cell_type": "markdown",
   "source": "Removing Nan values",
   "id": "13b16b089c146c63"
  },
  {
   "metadata": {
    "ExecuteTime": {
     "end_time": "2024-10-02T10:53:53.910748Z",
     "start_time": "2024-10-02T10:53:53.840277Z"
    }
   },
   "cell_type": "code",
   "source": "df_orders_cleaned = df_orders.dropna(axis=0, how='any')",
   "id": "af2c9f6cdfbf372a",
   "outputs": [],
   "execution_count": 138
  },
  {
   "metadata": {},
   "cell_type": "markdown",
   "source": "Removing the column \"number\", there is a DataFrame index",
   "id": "be5ba984fda3deff"
  },
  {
   "metadata": {
    "ExecuteTime": {
     "end_time": "2024-10-02T10:53:53.972878Z",
     "start_time": "2024-10-02T10:53:53.952769Z"
    }
   },
   "cell_type": "code",
   "source": "df_orders_cleaned = df_orders_cleaned.drop(df_orders_cleaned.columns[0], axis=1)",
   "id": "27c4d816b549f813",
   "outputs": [],
   "execution_count": 139
  },
  {
   "metadata": {},
   "cell_type": "markdown",
   "source": "Removing the orders containing returns (orders with values below 0) from calculations.",
   "id": "7d22d60be0cfee03"
  },
  {
   "metadata": {
    "ExecuteTime": {
     "end_time": "2024-10-02T10:53:54.021049Z",
     "start_time": "2024-10-02T10:53:53.972878Z"
    }
   },
   "cell_type": "code",
   "source": "df_orders_cleaned = df_orders_cleaned[df_orders_cleaned.value > 0]",
   "id": "976892f05924cf0f",
   "outputs": [],
   "execution_count": 140
  },
  {
   "metadata": {},
   "cell_type": "markdown",
   "source": "Checking if there is only one order_id per order value",
   "id": "c0a3d0360826e986"
  },
  {
   "metadata": {
    "ExecuteTime": {
     "end_time": "2024-10-02T10:53:54.797561Z",
     "start_time": "2024-10-02T10:53:54.028557Z"
    }
   },
   "cell_type": "code",
   "source": "df_orders_cleaned['order_id'].value_counts()",
   "id": "c751099c0b48bbd4",
   "outputs": [
    {
     "data": {
      "text/plain": [
       "order_id\n",
       "56833617.0    2\n",
       "16666576.0    2\n",
       "24729369.0    2\n",
       "52537325.0    2\n",
       "46861536.0    2\n",
       "             ..\n",
       "91722929.0    1\n",
       "76578060.0    1\n",
       "48208738.0    1\n",
       "11830182.0    1\n",
       "70629629.0    1\n",
       "Name: count, Length: 3964073, dtype: int64"
      ]
     },
     "execution_count": 141,
     "metadata": {},
     "output_type": "execute_result"
    }
   ],
   "execution_count": 141
  },
  {
   "metadata": {},
   "cell_type": "markdown",
   "source": "Removing duplicate values",
   "id": "60da13ebb951a130"
  },
  {
   "metadata": {
    "ExecuteTime": {
     "end_time": "2024-10-02T10:53:55.652670Z",
     "start_time": "2024-10-02T10:53:54.820812Z"
    }
   },
   "cell_type": "code",
   "source": "df_orders_cleaned = df_orders_cleaned.drop_duplicates(keep='first')",
   "id": "cfa4386575887aa2",
   "outputs": [],
   "execution_count": 142
  },
  {
   "metadata": {
    "ExecuteTime": {
     "end_time": "2024-10-02T10:53:55.927953Z",
     "start_time": "2024-10-02T10:53:55.671637Z"
    }
   },
   "cell_type": "code",
   "source": "df_orders_cleaned.describe()",
   "id": "177590574e0d1dd",
   "outputs": [
    {
     "data": {
      "text/plain": [
       "           order_id         value\n",
       "count  3.964073e+06  3.964073e+06\n",
       "mean   5.503874e+07  2.565577e+04\n",
       "std    2.589908e+07  4.066933e+05\n",
       "min    1.018763e+07  1.000000e+01\n",
       "25%    3.261849e+07  2.094000e+02\n",
       "50%    5.501393e+07  4.090400e+02\n",
       "75%    7.746140e+07  6.085100e+02\n",
       "max    9.991874e+07  8.000000e+06"
      ],
      "text/html": [
       "<div>\n",
       "<style scoped>\n",
       "    .dataframe tbody tr th:only-of-type {\n",
       "        vertical-align: middle;\n",
       "    }\n",
       "\n",
       "    .dataframe tbody tr th {\n",
       "        vertical-align: top;\n",
       "    }\n",
       "\n",
       "    .dataframe thead th {\n",
       "        text-align: right;\n",
       "    }\n",
       "</style>\n",
       "<table border=\"1\" class=\"dataframe\">\n",
       "  <thead>\n",
       "    <tr style=\"text-align: right;\">\n",
       "      <th></th>\n",
       "      <th>order_id</th>\n",
       "      <th>value</th>\n",
       "    </tr>\n",
       "  </thead>\n",
       "  <tbody>\n",
       "    <tr>\n",
       "      <th>count</th>\n",
       "      <td>3.964073e+06</td>\n",
       "      <td>3.964073e+06</td>\n",
       "    </tr>\n",
       "    <tr>\n",
       "      <th>mean</th>\n",
       "      <td>5.503874e+07</td>\n",
       "      <td>2.565577e+04</td>\n",
       "    </tr>\n",
       "    <tr>\n",
       "      <th>std</th>\n",
       "      <td>2.589908e+07</td>\n",
       "      <td>4.066933e+05</td>\n",
       "    </tr>\n",
       "    <tr>\n",
       "      <th>min</th>\n",
       "      <td>1.018763e+07</td>\n",
       "      <td>1.000000e+01</td>\n",
       "    </tr>\n",
       "    <tr>\n",
       "      <th>25%</th>\n",
       "      <td>3.261849e+07</td>\n",
       "      <td>2.094000e+02</td>\n",
       "    </tr>\n",
       "    <tr>\n",
       "      <th>50%</th>\n",
       "      <td>5.501393e+07</td>\n",
       "      <td>4.090400e+02</td>\n",
       "    </tr>\n",
       "    <tr>\n",
       "      <th>75%</th>\n",
       "      <td>7.746140e+07</td>\n",
       "      <td>6.085100e+02</td>\n",
       "    </tr>\n",
       "    <tr>\n",
       "      <th>max</th>\n",
       "      <td>9.991874e+07</td>\n",
       "      <td>8.000000e+06</td>\n",
       "    </tr>\n",
       "  </tbody>\n",
       "</table>\n",
       "</div>"
      ]
     },
     "execution_count": 143,
     "metadata": {},
     "output_type": "execute_result"
    }
   ],
   "execution_count": 143
  },
  {
   "metadata": {},
   "cell_type": "markdown",
   "source": "Average order value is 25655,77",
   "id": "4ec258667deee592"
  }
 ],
 "metadata": {
  "kernelspec": {
   "display_name": "Python 3",
   "language": "python",
   "name": "python3"
  },
  "language_info": {
   "codemirror_mode": {
    "name": "ipython",
    "version": 2
   },
   "file_extension": ".py",
   "mimetype": "text/x-python",
   "name": "python",
   "nbconvert_exporter": "python",
   "pygments_lexer": "ipython2",
   "version": "2.7.6"
  }
 },
 "nbformat": 4,
 "nbformat_minor": 5
}
